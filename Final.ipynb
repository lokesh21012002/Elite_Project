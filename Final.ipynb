{
  "nbformat": 4,
  "nbformat_minor": 0,
  "metadata": {
    "colab": {
      "name": "Project (2).ipynb",
      "provenance": [],
      "collapsed_sections": []
    },
    "kernelspec": {
      "name": "python3",
      "display_name": "Python 3"
    },
    "language_info": {
      "name": "python"
    }
  },
  "cells": [
    {
      "cell_type": "code",
      "metadata": {
        "id": "Rn1nPK0K4Z7i"
      },
      "source": [
        "record={1:{\"name\":\"Chips\",\"price\":10,\"discount%\":10,\"company\":\"amul\",\"expiry\":\"1/2/2022\",\"quantity\":10},\n",
        "        2:{\"name\":\"Amul butter\",\"price\":45,\"discount%\":6,\"company\":\"amul\",\"expiry\":\"1/11/2021\",\"quantity\":100},\n",
        "        3:{\"name\":\"amul fresh cream\",\"price\":10,\"discount%\":10,\"company\":\"amul\",\"expiry\":\"19/12/2021\",\"quantity\":250},\n",
        "        4:{\"name\":\"kurkure\",\"price\":10,\"discount%\":10,\"company\":\"britannia\",\"expiry\":\"1/2/2022\",\"quantity\":10},\n",
        "        5:{\"name\":\"tata tea\",\"price\":50,\"discount%\":10,\"company\":\"tata\",\"expiry\":\"1/12/2022\",\"quantity\":500},\n",
        "        6:{\"name\":\"gold tea\",\"price\":80,\"discount%\":10,\"company\":\"gold\",\"expiry\":\"2/11/2022\",\"quantity\":450},\n",
        "        7:{\"name\":\"Amul badam pista\",\"price\":103,\"discount%\":10,\"company\":\"amul\",\"expiry\":\"1/11/2021\",\"quantity\":500},\n",
        "        8:{\"name\":\"pen\",\"price\":10,\"discount%\":2,\"company\":\"goldex\",\"expiry\":\"11/2/2022\",\"quantity\":1},\n",
        "        9:{\"name\":\"dove shampoo\",\"price\":450,\"discount%\":10,\"company\":\"dove\",\"expiry\":\"11/12/2022\",\"quantity\":1000},\n",
        "        10:{\"name\":\"dove soap\",\"price\":50,\"discount%\":10,\"company\":\"dove\",\"expiry\":\"10/2/2022\",\"quantity\":50},\n",
        "        11:{\"name\":\"sunsilk shampoo\",\"price\":10,\"discount%\":10,\"company\":\"britannia\",\"expiry\":\"1/2/2022\",\"quantity\":450},\n",
        "        12:{\"name\":\"dabur vatika health shampoo\",\"price\":\"muffets\",\"discount%\":10,\"company\":\"dabur\",\"expiry\":\"11/2/2022\",\"quantity\":1000},\n",
        "        13:{\"name\":\"head& shoulder\",\"price\":540,\"discount%\":10,\"company\":\"head& shoulder\",\"expiry\":\"11/12/2022\",\"quantity\":800},\n",
        "        14:{\"name\":\"lux soap\",\"price\":90,\"discount%\":10,\"company\":\"Lux\",\"expiry\":\"11/5/2022\",\"quantity\":150},\n",
        "        15:{\"name\":\"pear soap\",\"price\":256,\"discount%\":10,\"company\":\"pear\",\"expiry\":\"11/4/2022\",\"quantity\":125},\n",
        "        16:{\"name\":\"dettol soap\",\"price\":240,\"discount%\":10,\"company\":\"dettol\",\"expiry\":\"10/2/2022\",\"quantity\":125},\n",
        "        17:{\"name\":\"dettol handwash\",\"price\":100,\"discount%\":10,\"company\":\"dettol\",\"expiry\":\"5/5/2022\",\"quantity\":2500},\n",
        "        18:{\"name\":\"Amul Elaichi\",\"price\":90,\"discount%\":10,\"company\":\"amul\",\"expiry\":\"1/5/2022\",\"quantity\":500},\n",
        "        19:{\"name\":\" salt Chips\",\"price\":10,\"discount%\":10,\"company\":\"lays\",\"expiry\":\"11/12/2022\",\"quantity\":10},\n",
        "        20:{\"name\":\" onion Chips\",\"price\":10,\"discount%\":10,\"company\":\"Lays\",\"expiry\":\"10/12/2021\",\"quantity\":10},\n",
        "        21:{\"name\":\"choco chips\",\"price\":30,\"discount%\":10,\"company\":\"britannia\",\"expiry\":\"1/2/2022\",\"quantity\":10},\n",
        "        22:{\"name\":\"cookies\",\"price\":50,\"discount%\":10,\"company\":\"britannia\",\"expiry\":\"5/2/2022\",\"quantity\":50},\n",
        "        23:{\"name\":\"oerio\",\"price\":10,\"discount%\":10,\"company\":\"britannia\",\"expiry\":\"6/2/2022\",\"quantity\":10},\n",
        "        24:{\"name\":\"Amul cheese\",\"price\":106,\"discount%\":10,\"company\":\"amul\",\"expiry\":\"1/12/2021\",\"quantity\":200},\n",
        "        25:{\"name\":\"rice\",\"price\":339,\"discount%\":10,\"company\":\"daawat\",\"expiry\":\"10/2/2022\",\"quantity\":5000},\n",
        "        26:{\"name\":\"rice\",\"price\":225,\"discount%\":10,\"company\":\"devaaya\",\"expiry\":\"9/2/2022\",\"quantity\":5000},\n",
        "        27:{\"name\":\"neeam\",\"price\":40,\"discount%\":10,\"company\":\"patanjali\",\"expiry\":\"1/2/2022\",\"quantity\":50},\n",
        "        28:{\"name\":\"colgate\",\"price\":50,\"discount%\":10,\"company\":\"pepsodent\",\"expiry\":\"1/2/2022\",\"quantity\":100},\n",
        "        29:{\"name\":\"pizza chesse\",\"price\":49,\"discount%\":10,\"company\":\"britannia\",\"expiry\":\"10/12/2021\",\"quantity\":1000},\n",
        "        30:{\"name\":\"muffets\",\"price\":28,\"discount%\":10,\"company\":\"winkin\",\"expiry\":\"11/2/2022\",\"quantity\":400},\n",
        "        31:{\"name\":\"toastea\",\"price\":34,\"discount%\":10,\"company\":\"britannia\",\"expiry\":\"3/2/2022\",\"quantity\":273}\n",
        "\n",
        "\n",
        "\n",
        "        }\n",
        "\n"
      ],
      "execution_count": 1,
      "outputs": []
    },
    {
      "cell_type": "code",
      "metadata": {
        "id": "qo5z2zmR4eUn"
      },
      "source": [
        "\n",
        "import json\n",
        "js=json.dumps(record)"
      ],
      "execution_count": 2,
      "outputs": []
    },
    {
      "cell_type": "code",
      "metadata": {
        "colab": {
          "base_uri": "https://localhost:8080/"
        },
        "id": "ehF23mZv4kUT",
        "outputId": "7e79e83e-45b9-4822-9ca6-1f382e3b520f"
      },
      "source": [
        "type(js)\n",
        "type(record)"
      ],
      "execution_count": 3,
      "outputs": [
        {
          "output_type": "execute_result",
          "data": {
            "text/plain": [
              "dict"
            ]
          },
          "metadata": {},
          "execution_count": 3
        }
      ]
    },
    {
      "cell_type": "code",
      "metadata": {
        "colab": {
          "base_uri": "https://localhost:8080/"
        },
        "id": "2DO0_bBF41LJ",
        "outputId": "f01d99d1-a5bc-40a8-ec29-369328a90f6c"
      },
      "source": [
        "\n",
        "b=int(input(\"Enter the id of product\"))\n",
        "a=int(input(\"Enter the Quantity\"))\n",
        "\n",
        "if(a>record[b][\"quantity\"]):\n",
        "  print(\"Enter the lower Quantity\")\n",
        "else:\n",
        "  print(\"Thankyou for shopping visit again\")\n",
        "  print(\"Your bill amount is \",record[b][\"quantity\"]*a)\n",
        "  record[b][\"quantity\"]-=a\n",
        "  # print(record[31][\"quantity\"])\n"
      ],
      "execution_count": 6,
      "outputs": [
        {
          "output_type": "stream",
          "name": "stdout",
          "text": [
            "Enter the id of product1\n",
            "Enter the Quantity1\n",
            "Thankyou for shopping visit again\n",
            "Your bill amount is  10\n"
          ]
        }
      ]
    },
    {
      "cell_type": "code",
      "metadata": {
        "id": "tVqKRB5542e3"
      },
      "source": [
        "fd=open(\"record.json\",'w')\n",
        "fd.write(js)\n",
        "fd.close()"
      ],
      "execution_count": 8,
      "outputs": []
    },
    {
      "cell_type": "code",
      "metadata": {
        "id": "0YvTbZjn5LZM"
      },
      "source": [
        "fd=open(\"record.json\",\"r\")\n",
        "txt=fd.read()\n",
        "fd.close()\n"
      ],
      "execution_count": 9,
      "outputs": []
    },
    {
      "cell_type": "code",
      "metadata": {
        "id": "HuPKt98m5U1E"
      },
      "source": [
        "record=json.loads(txt)\n"
      ],
      "execution_count": 10,
      "outputs": []
    },
    {
      "cell_type": "code",
      "metadata": {
        "colab": {
          "base_uri": "https://localhost:8080/"
        },
        "id": "e_RE_2Su8CGY",
        "outputId": "1a687080-3498-4945-e423-7bf81415881d"
      },
      "source": [
        "record"
      ],
      "execution_count": 11,
      "outputs": [
        {
          "output_type": "execute_result",
          "data": {
            "text/plain": [
              "{'1': {'company': 'amul',\n",
              "  'discount%': 10,\n",
              "  'expiry': '1/2/2022',\n",
              "  'name': 'Chips',\n",
              "  'price': 10,\n",
              "  'quantity': 10},\n",
              " '10': {'company': 'dove',\n",
              "  'discount%': 10,\n",
              "  'expiry': '10/2/2022',\n",
              "  'name': 'dove soap',\n",
              "  'price': 50,\n",
              "  'quantity': 50},\n",
              " '11': {'company': 'britannia',\n",
              "  'discount%': 10,\n",
              "  'expiry': '1/2/2022',\n",
              "  'name': 'sunsilk shampoo',\n",
              "  'price': 10,\n",
              "  'quantity': 450},\n",
              " '12': {'company': 'dabur',\n",
              "  'discount%': 10,\n",
              "  'expiry': '11/2/2022',\n",
              "  'name': 'dabur vatika health shampoo',\n",
              "  'price': 'muffets',\n",
              "  'quantity': 1000},\n",
              " '13': {'company': 'head& shoulder',\n",
              "  'discount%': 10,\n",
              "  'expiry': '11/12/2022',\n",
              "  'name': 'head& shoulder',\n",
              "  'price': 540,\n",
              "  'quantity': 800},\n",
              " '14': {'company': 'Lux',\n",
              "  'discount%': 10,\n",
              "  'expiry': '11/5/2022',\n",
              "  'name': 'lux soap',\n",
              "  'price': 90,\n",
              "  'quantity': 150},\n",
              " '15': {'company': 'pear',\n",
              "  'discount%': 10,\n",
              "  'expiry': '11/4/2022',\n",
              "  'name': 'pear soap',\n",
              "  'price': 256,\n",
              "  'quantity': 125},\n",
              " '16': {'company': 'dettol',\n",
              "  'discount%': 10,\n",
              "  'expiry': '10/2/2022',\n",
              "  'name': 'dettol soap',\n",
              "  'price': 240,\n",
              "  'quantity': 125},\n",
              " '17': {'company': 'dettol',\n",
              "  'discount%': 10,\n",
              "  'expiry': '5/5/2022',\n",
              "  'name': 'dettol handwash',\n",
              "  'price': 100,\n",
              "  'quantity': 2500},\n",
              " '18': {'company': 'amul',\n",
              "  'discount%': 10,\n",
              "  'expiry': '1/5/2022',\n",
              "  'name': 'Amul Elaichi',\n",
              "  'price': 90,\n",
              "  'quantity': 500},\n",
              " '19': {'company': 'lays',\n",
              "  'discount%': 10,\n",
              "  'expiry': '11/12/2022',\n",
              "  'name': ' salt Chips',\n",
              "  'price': 10,\n",
              "  'quantity': 10},\n",
              " '2': {'company': 'amul',\n",
              "  'discount%': 6,\n",
              "  'expiry': '1/11/2021',\n",
              "  'name': 'Amul butter',\n",
              "  'price': 45,\n",
              "  'quantity': 100},\n",
              " '20': {'company': 'Lays',\n",
              "  'discount%': 10,\n",
              "  'expiry': '10/12/2021',\n",
              "  'name': ' onion Chips',\n",
              "  'price': 10,\n",
              "  'quantity': 10},\n",
              " '21': {'company': 'britannia',\n",
              "  'discount%': 10,\n",
              "  'expiry': '1/2/2022',\n",
              "  'name': 'choco chips',\n",
              "  'price': 30,\n",
              "  'quantity': 10},\n",
              " '22': {'company': 'britannia',\n",
              "  'discount%': 10,\n",
              "  'expiry': '5/2/2022',\n",
              "  'name': 'cookies',\n",
              "  'price': 50,\n",
              "  'quantity': 50},\n",
              " '23': {'company': 'britannia',\n",
              "  'discount%': 10,\n",
              "  'expiry': '6/2/2022',\n",
              "  'name': 'oerio',\n",
              "  'price': 10,\n",
              "  'quantity': 10},\n",
              " '24': {'company': 'amul',\n",
              "  'discount%': 10,\n",
              "  'expiry': '1/12/2021',\n",
              "  'name': 'Amul cheese',\n",
              "  'price': 106,\n",
              "  'quantity': 200},\n",
              " '25': {'company': 'daawat',\n",
              "  'discount%': 10,\n",
              "  'expiry': '10/2/2022',\n",
              "  'name': 'rice',\n",
              "  'price': 339,\n",
              "  'quantity': 5000},\n",
              " '26': {'company': 'devaaya',\n",
              "  'discount%': 10,\n",
              "  'expiry': '9/2/2022',\n",
              "  'name': 'rice',\n",
              "  'price': 225,\n",
              "  'quantity': 5000},\n",
              " '27': {'company': 'patanjali',\n",
              "  'discount%': 10,\n",
              "  'expiry': '1/2/2022',\n",
              "  'name': 'neeam',\n",
              "  'price': 40,\n",
              "  'quantity': 50},\n",
              " '28': {'company': 'pepsodent',\n",
              "  'discount%': 10,\n",
              "  'expiry': '1/2/2022',\n",
              "  'name': 'colgate',\n",
              "  'price': 50,\n",
              "  'quantity': 100},\n",
              " '29': {'company': 'britannia',\n",
              "  'discount%': 10,\n",
              "  'expiry': '10/12/2021',\n",
              "  'name': 'pizza chesse',\n",
              "  'price': 49,\n",
              "  'quantity': 1000},\n",
              " '3': {'company': 'amul',\n",
              "  'discount%': 10,\n",
              "  'expiry': '19/12/2021',\n",
              "  'name': 'amul fresh cream',\n",
              "  'price': 10,\n",
              "  'quantity': 250},\n",
              " '30': {'company': 'winkin',\n",
              "  'discount%': 10,\n",
              "  'expiry': '11/2/2022',\n",
              "  'name': 'muffets',\n",
              "  'price': 28,\n",
              "  'quantity': 400},\n",
              " '31': {'company': 'britannia',\n",
              "  'discount%': 10,\n",
              "  'expiry': '3/2/2022',\n",
              "  'name': 'toastea',\n",
              "  'price': 34,\n",
              "  'quantity': 273},\n",
              " '4': {'company': 'britannia',\n",
              "  'discount%': 10,\n",
              "  'expiry': '1/2/2022',\n",
              "  'name': 'kurkure',\n",
              "  'price': 10,\n",
              "  'quantity': 10},\n",
              " '5': {'company': 'tata',\n",
              "  'discount%': 10,\n",
              "  'expiry': '1/12/2022',\n",
              "  'name': 'tata tea',\n",
              "  'price': 50,\n",
              "  'quantity': 500},\n",
              " '6': {'company': 'gold',\n",
              "  'discount%': 10,\n",
              "  'expiry': '2/11/2022',\n",
              "  'name': 'gold tea',\n",
              "  'price': 80,\n",
              "  'quantity': 450},\n",
              " '7': {'company': 'amul',\n",
              "  'discount%': 10,\n",
              "  'expiry': '1/11/2021',\n",
              "  'name': 'Amul badam pista',\n",
              "  'price': 103,\n",
              "  'quantity': 500},\n",
              " '8': {'company': 'goldex',\n",
              "  'discount%': 2,\n",
              "  'expiry': '11/2/2022',\n",
              "  'name': 'pen',\n",
              "  'price': 10,\n",
              "  'quantity': 1},\n",
              " '9': {'company': 'dove',\n",
              "  'discount%': 10,\n",
              "  'expiry': '11/12/2022',\n",
              "  'name': 'dove shampoo',\n",
              "  'price': 450,\n",
              "  'quantity': 1000}}"
            ]
          },
          "metadata": {},
          "execution_count": 11
        }
      ]
    }
  ]
}